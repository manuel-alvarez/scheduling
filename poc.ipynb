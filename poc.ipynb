{
  "nbformat": 4,
  "nbformat_minor": 0,
  "metadata": {
    "colab": {
      "name": "Untitled0.ipynb",
      "provenance": [],
      "include_colab_link": true
    },
    "kernelspec": {
      "name": "python3",
      "display_name": "Python 3"
    }
  },
  "cells": [
    {
      "cell_type": "markdown",
      "metadata": {
        "id": "view-in-github",
        "colab_type": "text"
      },
      "source": [
        "<a href=\"https://colab.research.google.com/github/manuel-alvarez/scheduling/blob/master/poc.ipynb\" target=\"_parent\"><img src=\"https://colab.research.google.com/assets/colab-badge.svg\" alt=\"Open In Colab\"/></a>"
      ]
    },
    {
      "cell_type": "markdown",
      "metadata": {
        "id": "prDKMG0OaB2M",
        "colab_type": "text"
      },
      "source": [
        "# Schedule Generator with Genetic Algorithms"
      ]
    },
    {
      "cell_type": "markdown",
      "metadata": {
        "id": "YLX4z1zOaJ3O",
        "colab_type": "text"
      },
      "source": [
        "## POC"
      ]
    },
    {
      "cell_type": "code",
      "metadata": {
        "id": "DusWKWkraLer",
        "colab_type": "code",
        "colab": {}
      },
      "source": [
        "import numpy"
      ],
      "execution_count": 0,
      "outputs": []
    },
    {
      "cell_type": "code",
      "metadata": {
        "id": "YAv2N345b-ER",
        "colab_type": "code",
        "colab": {}
      },
      "source": [
        "POPULATION_SIZE = 11\n",
        "INDIVIDUAL_SIZE = 10\n",
        "RESOURCES = 5\n",
        "SURVIVAL_RATE = .6"
      ],
      "execution_count": 0,
      "outputs": []
    },
    {
      "cell_type": "code",
      "metadata": {
        "id": "iWGBbsvqam6y",
        "colab_type": "code",
        "colab": {}
      },
      "source": [
        "def initialize_population(population_size, individual_size, resources_size):\n",
        "  population = None\n",
        "  for i in range(population_size):\n",
        "    if population is None:\n",
        "      population = numpy.array([numpy.random.randint(resources_size + 1, size=individual_size)])\n",
        "    else:\n",
        "      population = numpy.append(population, [numpy.random.randint(resources_size + 1, size=individual_size)], axis=0)\n",
        "  return population"
      ],
      "execution_count": 0,
      "outputs": []
    },
    {
      "cell_type": "code",
      "metadata": {
        "id": "EWwnres9tI_K",
        "colab_type": "code",
        "colab": {}
      },
      "source": [
        "def get_fitness(the_try):\n",
        "  unique, counts = numpy.unique(the_try, return_counts=True)\n",
        "  return sum(item for item in counts if item > 1)"
      ],
      "execution_count": 0,
      "outputs": []
    },
    {
      "cell_type": "code",
      "metadata": {
        "id": "3RyVCqE23kAa",
        "colab_type": "code",
        "colab": {}
      },
      "source": [
        "def get_selection(population):\n",
        "  return numpy.array(sorted([[get_fitness(the_try), the_try] for the_try in population], key=lambda x:x[0])[:int(numpy.ceil(POPULATION_SIZE * SURVIVAL_RATE))])"
      ],
      "execution_count": 0,
      "outputs": []
    },
    {
      "cell_type": "code",
      "metadata": {
        "id": "znh3nc6N2K5G",
        "colab_type": "code",
        "colab": {}
      },
      "source": [
        "def breed(selection):\n",
        "  population = selection\n",
        "  i = 0\n",
        "  while len(population) < POPULATION_SIZE:\n",
        "    parents = population[i:2]\n",
        "    numpy.random.shuffle(parents)\n",
        "    slicery = numpy.random.randint(INDIVIDUAL_SIZE) \n",
        "    print(numpy.append(parents[0][slicery:], parents[1][:slicery]))\n",
        "    print(numpy.array(numpy.append(parents[0][slicery:], parents[1][:slicery])))\n",
        "    population = numpy.append(population, numpy.array(numpy.append(parents[0][slicery:], parents[1][:slicery], axis=0)), axis=0)\n",
        "  return population"
      ],
      "execution_count": 0,
      "outputs": []
    },
    {
      "cell_type": "code",
      "metadata": {
        "id": "NESDhT43cMjh",
        "colab_type": "code",
        "colab": {
          "base_uri": "https://localhost:8080/",
          "height": 153
        },
        "outputId": "f9b76355-7b41-46d4-b830-ac4a5a00dc3e"
      },
      "source": [
        "population = initialize_population(POPULATION_SIZE, INDIVIDUAL_SIZE, RESOURCES)\n",
        "selection = get_selection(population)\n",
        "population = breed(selection[:,1])\n",
        "print(population)"
      ],
      "execution_count": 45,
      "outputs": [
        {
          "output_type": "stream",
          "text": [
            "[1 4 2 2 5 3 0 2 2 1]\n",
            "[array([2, 0, 3, 2, 3, 1, 4, 2, 2, 5])\n",
            " array([3, 0, 2, 2, 1, 4, 3, 2, 2, 3])\n",
            " array([0, 2, 1, 2, 4, 1, 2, 0, 5, 3])\n",
            " array([4, 3, 5, 3, 1, 5, 2, 3, 3, 3])\n",
            " array([5, 5, 1, 2, 3, 0, 1, 3, 5, 5])\n",
            " array([5, 0, 1, 4, 3, 4, 2, 3, 5, 2])\n",
            " array([1, 3, 5, 2, 2, 4, 4, 5, 4, 4]) 1 4 2 2 5 3 0 2 2 1]\n"
          ],
          "name": "stdout"
        }
      ]
    },
    {
      "cell_type": "code",
      "metadata": {
        "id": "kcCSQx0v21gV",
        "colab_type": "code",
        "colab": {
          "base_uri": "https://localhost:8080/",
          "height": 51
        },
        "outputId": "8c55fca5-75b5-48e3-cbdb-7a808d39beb4"
      },
      "source": [
        "selection[0:2]"
      ],
      "execution_count": 89,
      "outputs": [
        {
          "output_type": "execute_result",
          "data": {
            "text/plain": [
              "[[7, array([2, 3, 0, 4, 0, 0, 5, 1, 1, 3])],\n",
              " [7, array([3, 2, 2, 5, 3, 1, 0, 4, 5, 5])]]"
            ]
          },
          "metadata": {
            "tags": []
          },
          "execution_count": 89
        }
      ]
    }
  ]
}