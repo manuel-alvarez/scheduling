{
  "nbformat": 4,
  "nbformat_minor": 0,
  "metadata": {
    "colab": {
      "name": "Untitled0.ipynb",
      "provenance": [],
      "include_colab_link": true
    },
    "kernelspec": {
      "name": "python3",
      "display_name": "Python 3"
    }
  },
  "cells": [
    {
      "cell_type": "markdown",
      "metadata": {
        "id": "view-in-github",
        "colab_type": "text"
      },
      "source": [
        "<a href=\"https://colab.research.google.com/github/manuel-alvarez/scheduling/blob/master/poc.ipynb\" target=\"_parent\"><img src=\"https://colab.research.google.com/assets/colab-badge.svg\" alt=\"Open In Colab\"/></a>"
      ]
    },
    {
      "cell_type": "markdown",
      "metadata": {
        "id": "prDKMG0OaB2M",
        "colab_type": "text"
      },
      "source": [
        "# Schedule Generator with Genetic Algorithms"
      ]
    },
    {
      "cell_type": "markdown",
      "metadata": {
        "id": "YLX4z1zOaJ3O",
        "colab_type": "text"
      },
      "source": [
        "## POC"
      ]
    },
    {
      "cell_type": "code",
      "metadata": {
        "id": "DusWKWkraLer",
        "colab_type": "code",
        "colab": {}
      },
      "source": [
        "import numpy"
      ],
      "execution_count": 0,
      "outputs": []
    },
    {
      "cell_type": "code",
      "metadata": {
        "id": "YAv2N345b-ER",
        "colab_type": "code",
        "colab": {}
      },
      "source": [
        "POPULATION_SIZE = 11\n",
        "INDIVIDUAL_SIZE = 5\n",
        "RESOURCES = 5 "
      ],
      "execution_count": 0,
      "outputs": []
    },
    {
      "cell_type": "code",
      "metadata": {
        "id": "iWGBbsvqam6y",
        "colab_type": "code",
        "colab": {}
      },
      "source": [
        "def initialize_population(population_size, individual_size, resources_size):\n",
        "  population = None\n",
        "  for i in range(population_size):\n",
        "    if population is None:\n",
        "      population = numpy.array([numpy.random.randint(resources_size, size=individual_size)])\n",
        "    else:\n",
        "      population = numpy.append(population, [numpy.random.randint(resources_size, size=individual_size)], axis=0)\n",
        "  return population"
      ],
      "execution_count": 0,
      "outputs": []
    },
    {
      "cell_type": "code",
      "metadata": {
        "id": "NESDhT43cMjh",
        "colab_type": "code",
        "colab": {}
      },
      "source": [
        "population = initialize_population(POPULATION_SIZE, INDIVIDUAL_SIZE, RESOURCES)"
      ],
      "execution_count": 0,
      "outputs": []
    }
  ]
}