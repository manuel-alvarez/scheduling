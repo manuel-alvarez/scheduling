{
  "nbformat": 4,
  "nbformat_minor": 0,
  "metadata": {
    "colab": {
      "name": "Untitled0.ipynb",
      "provenance": [],
      "include_colab_link": true
    },
    "kernelspec": {
      "name": "python3",
      "display_name": "Python 3"
    }
  },
  "cells": [
    {
      "cell_type": "markdown",
      "metadata": {
        "id": "view-in-github",
        "colab_type": "text"
      },
      "source": [
        "<a href=\"https://colab.research.google.com/github/manuel-alvarez/scheduling/blob/master/poc.ipynb\" target=\"_parent\"><img src=\"https://colab.research.google.com/assets/colab-badge.svg\" alt=\"Open In Colab\"/></a>"
      ]
    },
    {
      "cell_type": "markdown",
      "metadata": {
        "id": "prDKMG0OaB2M",
        "colab_type": "text"
      },
      "source": [
        "# Schedule Generator with Genetic Algorithms"
      ]
    },
    {
      "cell_type": "markdown",
      "metadata": {
        "id": "YLX4z1zOaJ3O",
        "colab_type": "text"
      },
      "source": [
        "## POC"
      ]
    },
    {
      "cell_type": "code",
      "metadata": {
        "id": "DusWKWkraLer",
        "colab_type": "code",
        "colab": {}
      },
      "source": [
        "import numpy"
      ],
      "execution_count": 0,
      "outputs": []
    },
    {
      "cell_type": "code",
      "metadata": {
        "id": "YAv2N345b-ER",
        "colab_type": "code",
        "colab": {}
      },
      "source": [
        "POPULATION_SIZE = 11\n",
        "INDIVIDUAL_SIZE = 10\n",
        "RESOURCES = 5\n",
        "SURVIVAL_RATE = .6"
      ],
      "execution_count": 0,
      "outputs": []
    },
    {
      "cell_type": "code",
      "metadata": {
        "id": "iWGBbsvqam6y",
        "colab_type": "code",
        "colab": {}
      },
      "source": [
        "def initialize_population(population_size, individual_size, resources_size):\n",
        "  population = None\n",
        "  for i in range(population_size):\n",
        "    if population is None:\n",
        "      population = numpy.array([numpy.random.randint(resources_size + 1, size=individual_size)])\n",
        "    else:\n",
        "      population = numpy.append(population, [numpy.random.randint(resources_size + 1, size=individual_size)], axis=0)\n",
        "  return population"
      ],
      "execution_count": 0,
      "outputs": []
    },
    {
      "cell_type": "code",
      "metadata": {
        "id": "EWwnres9tI_K",
        "colab_type": "code",
        "colab": {}
      },
      "source": [
        "def get_fitness(the_try):\n",
        "  unique, counts = numpy.unique(the_try, return_counts=True)\n",
        "  return sum(item for item in counts if item > 1)"
      ],
      "execution_count": 0,
      "outputs": []
    },
    {
      "cell_type": "code",
      "metadata": {
        "id": "3RyVCqE23kAa",
        "colab_type": "code",
        "colab": {}
      },
      "source": [
        "def get_selection(population):\n",
        "  return numpy.array(sorted([[get_fitness(the_try), the_try] for the_try in population], key=lambda x:x[0])[:int(numpy.ceil(POPULATION_SIZE * SURVIVAL_RATE))])"
      ],
      "execution_count": 0,
      "outputs": []
    },
    {
      "cell_type": "code",
      "metadata": {
        "id": "znh3nc6N2K5G",
        "colab_type": "code",
        "colab": {}
      },
      "source": [
        "def breed(selection):\n",
        "  population = numpy.array([the_try for the_try in selection])\n",
        "  i = 0\n",
        "  while len(population) < POPULATION_SIZE:\n",
        "    parents = population[i:2]\n",
        "    numpy.random.shuffle(parents)\n",
        "    slicery = numpy.random.randint(INDIVIDUAL_SIZE) \n",
        "    population = numpy.append(population, numpy.array([numpy.append(parents[0][slicery:], parents[1][:slicery], axis=0)]), axis=0)\n",
        "  return population"
      ],
      "execution_count": 0,
      "outputs": []
    },
    {
      "cell_type": "code",
      "metadata": {
        "id": "LZtexcvRtKHg",
        "colab_type": "code",
        "colab": {}
      },
      "source": [
        "def mutate(selection):\n",
        "  pass"
      ],
      "execution_count": 0,
      "outputs": []
    },
    {
      "cell_type": "code",
      "metadata": {
        "id": "NESDhT43cMjh",
        "colab_type": "code",
        "colab": {
          "base_uri": "https://localhost:8080/",
          "height": 340
        },
        "outputId": "d5021dff-9dc8-4ee1-c9d7-562ffc30a940"
      },
      "source": [
        "population = initialize_population(POPULATION_SIZE, INDIVIDUAL_SIZE, RESOURCES)\n",
        "selection = get_selection(population)\n",
        "population = breed(selection[:,1])\n",
        "print(population)"
      ],
      "execution_count": 74,
      "outputs": [
        {
          "output_type": "stream",
          "text": [
            "[1 3 3 2 5 5 1 2 2 0]\n",
            "[1 3 3 2 5 5 1 2 2 0]\n",
            "[5 3 0 2 4 3 1 3 3 2]\n",
            "[5 3 0 2 4 3 1 3 3 2]\n",
            "[3 3 2 5 5 1 2 2 0 4]\n",
            "[3 3 2 5 5 1 2 2 0 4]\n",
            "[2 3 0 5 3 0 2 4 3 1]\n",
            "[2 3 0 5 3 0 2 4 3 1]\n",
            "[[2 5 5 1 2 2 0 4 2 3]\n",
            " [0 5 3 0 2 4 3 1 3 3]\n",
            " [1 2 4 3 0 4 5 2 0 4]\n",
            " [0 3 1 1 2 2 4 3 1 3]\n",
            " [5 4 0 2 3 4 2 2 2 0]\n",
            " [4 0 4 3 3 1 2 1 0 5]\n",
            " [3 5 4 0 2 5 0 5 3 5]\n",
            " [1 3 3 2 5 5 1 2 2 0]\n",
            " [5 3 0 2 4 3 1 3 3 2]\n",
            " [3 3 2 5 5 1 2 2 0 4]\n",
            " [2 3 0 5 3 0 2 4 3 1]]\n"
          ],
          "name": "stdout"
        }
      ]
    }
  ]
}