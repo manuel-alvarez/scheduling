{
  "nbformat": 4,
  "nbformat_minor": 0,
  "metadata": {
    "colab": {
      "name": "poc.dev.ipynb",
      "provenance": [],
      "collapsed_sections": [],
      "include_colab_link": true
    },
    "kernelspec": {
      "name": "python3",
      "display_name": "Python 3"
    },
    "accelerator": "GPU"
  },
  "cells": [
    {
      "cell_type": "markdown",
      "metadata": {
        "id": "view-in-github",
        "colab_type": "text"
      },
      "source": [
        "<a href=\"https://colab.research.google.com/github/manuel-alvarez/scheduling/blob/master/poc_dev.ipynb\" target=\"_parent\"><img src=\"https://colab.research.google.com/assets/colab-badge.svg\" alt=\"Open In Colab\"/></a>"
      ]
    },
    {
      "cell_type": "markdown",
      "metadata": {
        "id": "prDKMG0OaB2M",
        "colab_type": "text"
      },
      "source": [
        "# Schedule Generator with Genetic Algorithms"
      ]
    },
    {
      "cell_type": "markdown",
      "metadata": {
        "id": "C-hVGNqDzBJa",
        "colab_type": "text"
      },
      "source": [
        "This script is intended to be a schedule generator for schools.\n",
        "\n",
        "There are three type of resources:\n",
        " - Classrooms\n",
        " - Teachers\n",
        " - Subjects\n",
        "\n",
        "For this script we will consider that all students in a class go together and don't move, so they are something like \"attached to the classroom\" and therefore not considered as resources, but they could."
      ]
    },
    {
      "cell_type": "markdown",
      "metadata": {
        "id": "YLX4z1zOaJ3O",
        "colab_type": "text"
      },
      "source": [
        "## Description"
      ]
    },
    {
      "cell_type": "markdown",
      "metadata": {
        "id": "KgPhpY3WznV2",
        "colab_type": "text"
      },
      "source": [
        "In this version, we are going to consider two of the three types of resources as constant, and one of them as variable. For example:\n",
        " - 1 classroom\n",
        " - 1 teacher\n",
        " - Multiple subjects (where number of subjects is greater than segment length)\n",
        "\n",
        "### Distribution\n",
        "\n",
        "In first version, subjects were randomly distributed, but now we want the subjects to be distributed with sense. Some subject must have 5 hours per week, while other just have one. We will use a dictionary with distribution and we will compare this to the unique (with counts) method in get_fitness.\n",
        "\n",
        "### Constraints\n",
        "\n",
        "In this example, we will use constraints. Sometimes, resources (subjects, teachers, ...) cannot be used in certain hours. This will be configured with an array of zeros and ones. 0 means it can be used, 1 means it cannot."
      ]
    },
    {
      "cell_type": "markdown",
      "metadata": {
        "id": "72qZV_uv-Iux",
        "colab_type": "text"
      },
      "source": [
        "## Requirements"
      ]
    },
    {
      "cell_type": "code",
      "metadata": {
        "id": "DusWKWkraLer",
        "colab_type": "code",
        "colab": {}
      },
      "source": [
        "import numpy"
      ],
      "execution_count": 0,
      "outputs": []
    },
    {
      "cell_type": "markdown",
      "metadata": {
        "id": "U77dW2Wn95o5",
        "colab_type": "text"
      },
      "source": [
        "## Settings"
      ]
    },
    {
      "cell_type": "markdown",
      "metadata": {
        "id": "cpzV0hAx98gS",
        "colab_type": "text"
      },
      "source": [
        "All this settings would be better in a database table, but we will use them as constants in those examples."
      ]
    },
    {
      "cell_type": "code",
      "metadata": {
        "id": "YAv2N345b-ER",
        "colab_type": "code",
        "colab": {}
      },
      "source": [
        "# Population (total size of time slots)\n",
        "POPULATION_SIZE = 100\n",
        "# Each segment represents a day\n",
        "SEGMENT = 5\n",
        "# Five days, since the schedule is weekly based, that are 5 segments\n",
        "INDIVIDUAL_SIZE = 25\n",
        "# Resources, currently, of just one type, let's say subjects\n",
        "RESOURCES = 10\n",
        "# Number of individuals that pass to the next generation\n",
        "SURVIVAL_RATE = .3\n",
        "# Rate of elements that are going to mutate\n",
        "MUTATION_RATE = .1\n",
        "# Rate of elements (in first population * rate positions) that are not mutating\n",
        "STEADY_POPULATION = .1\n",
        "# Rate of genes that are going to be mutate\n",
        "MUTATIONS = .2\n",
        "# Number of iterations we do in order to get the best approach\n",
        "STEPS = 500\n",
        "# Positions that must remain empty\n",
        "EMPTY = [0, 0, 0, 0, 0, 0, 0, 0, 0, 0, 0, 0, 0, 0, 0, 0, 0, 0, 0, 0, 0, 0, 0, 1, 1]\n",
        "# Severity\n",
        "SEVERITY = {\n",
        "    'high': 6,\n",
        "    'medium': 3,\n",
        "    'low': 1\n",
        "}\n",
        "DISTRIBUTION = {  # With examples for a primary school in Spain\n",
        "    1: 5,  # Spanish\n",
        "    2: 4,  # Math\n",
        "    3: 4,  # English\n",
        "    4: 2,  # Social Science\n",
        "    5: 2,  # Natural Science\n",
        "    6: 2,  # PE\n",
        "    7: 1,  # Religion\n",
        "    8: 1,  # Arts & crafts\n",
        "    9: 1,  # Music\n",
        "    10: 1  # Local culture (Asturian)\n",
        "}\n",
        "CONSTRAINTS = {\n",
        "    1: [1, 0, 0, 0, 0, 1, 0, 0, 0, 0, 1, 0, 0, 0, 0, 1, 0, 0, 0, 0, 1, 0, 0, 1, 1],\n",
        "    2: None,\n",
        "    3: None,\n",
        "    4: None,\n",
        "    5: None,\n",
        "    6: None,\n",
        "    7: None,\n",
        "    8: None,\n",
        "    9: None,\n",
        "    10: None\n",
        "}"
      ],
      "execution_count": 0,
      "outputs": []
    },
    {
      "cell_type": "code",
      "metadata": {
        "id": "pc4aepv8iz59",
        "colab_type": "code",
        "colab": {}
      },
      "source": [
        "def create_individual(resources_size, individual_size):\n",
        "  \"\"\"\n",
        "  Individuals are created with some constraints, so it's easier to find a valid\n",
        "  one\n",
        "  \"\"\"\n",
        "  individual = []\n",
        "  for key in DISTRIBUTION.keys():\n",
        "    for i in range(DISTRIBUTION[key]):\n",
        "      individual.append(key)\n",
        "  numpy.random.shuffle(individual)\n",
        "  for i in range(len(individual), INDIVIDUAL_SIZE):\n",
        "    individual.append(0)\n",
        "\n",
        "  return individual  "
      ],
      "execution_count": 0,
      "outputs": []
    },
    {
      "cell_type": "code",
      "metadata": {
        "id": "55uHnxh8jG_j",
        "colab_type": "code",
        "colab": {}
      },
      "source": [
        "create_individual(RESOURCES, INDIVIDUAL_SIZE)\n"
      ],
      "execution_count": 0,
      "outputs": []
    },
    {
      "cell_type": "code",
      "metadata": {
        "id": "iWGBbsvqam6y",
        "colab_type": "code",
        "colab": {}
      },
      "source": [
        "def initialize_population(population_size, individual_size, resources_size):\n",
        "  population = None\n",
        "  for i in range(population_size):\n",
        "    if population is None:\n",
        "      population = numpy.array([create_individual(resources_size, individual_size)])\n",
        "    else:\n",
        "      population = numpy.append(population, [create_individual(resources_size, individual_size)], axis=0)\n",
        "  return population"
      ],
      "execution_count": 0,
      "outputs": []
    },
    {
      "cell_type": "code",
      "metadata": {
        "id": "Ej8vuWuCBQO3",
        "colab_type": "code",
        "colab": {}
      },
      "source": [
        "def get_distribution(individual):\n",
        "  unique, counts = numpy.unique(individual, return_counts=True)\n",
        "  actual_distribution = dict(zip(unique, counts))\n",
        "  return actual_distribution"
      ],
      "execution_count": 0,
      "outputs": []
    },
    {
      "cell_type": "code",
      "metadata": {
        "id": "EWwnres9tI_K",
        "colab_type": "code",
        "colab": {}
      },
      "source": [
        "def get_fitness(the_try):\n",
        "  fitness = 0\n",
        "  for i in range(int(numpy.ceil(INDIVIDUAL_SIZE / SEGMENT))):\n",
        "    # print(f'Evaluating', i*SEGMENT, (i+1)*SEGMENT, the_try[i*SEGMENT:(i+1)*SEGMENT], 'from', the_try)\n",
        "    unique, counts = numpy.unique(the_try[i*SEGMENT:(i+1)*SEGMENT], return_counts=True)\n",
        "    # Not repeated resources in same segment\n",
        "    # Except 0\n",
        "    count = dict(zip(unique, counts))\n",
        "    if 0 in count.keys():\n",
        "      count.pop(0)\n",
        "    fitness += sum(SEVERITY['medium'] for item in count.values() if item > 1)\n",
        "\n",
        "  # fitness by distribution\n",
        "  actual_distribution = get_distribution(the_try)\n",
        "  fitness += sum(numpy.abs(actual_distribution.get(key, 0) - DISTRIBUTION[key]) for key in DISTRIBUTION.keys())\n",
        "  # Some positions must remain empty\n",
        "  fitness += sum(EMPTY[index] * SEVERITY['high'] * item / item for index, item in enumerate(the_try) if item != 0)\n",
        "  # Not empty slots in try unless it's mandatory\n",
        "  fitness += sum(SEVERITY['medium'] for index, item in enumerate(the_try) if item == 0 and EMPTY[index] == 0) \n",
        "\n",
        "  # Fitness by constraints\n",
        "  for resource in CONSTRAINTS:\n",
        "    if CONSTRAINTS[resource] is not None:\n",
        "      items = numpy.array([1 if key == resource else 0 for key in the_try])\n",
        "      constraints = numpy.array(CONSTRAINTS[resource])\n",
        "      fitness += sum(items * constraints) * SEVERITY['medium']\n",
        "\n",
        "  return fitness"
      ],
      "execution_count": 0,
      "outputs": []
    },
    {
      "cell_type": "code",
      "metadata": {
        "id": "3RyVCqE23kAa",
        "colab_type": "code",
        "colab": {}
      },
      "source": [
        "def get_selection(population):\n",
        "  \"\"\"\n",
        "  First, remove duplicates\n",
        "  Then leave just the SURVIVAL_RATE of the total population\n",
        "  Finally sort them by fitness\n",
        "  \"\"\"\n",
        "  selection = numpy.unique(population, axis=0)\n",
        "  selection = numpy.array(sorted([[get_fitness(the_try), the_try] for the_try in selection], key=lambda x:x[0])[:int(numpy.ceil(POPULATION_SIZE * SURVIVAL_RATE))])\n",
        "  return selection\n"
      ],
      "execution_count": 0,
      "outputs": []
    },
    {
      "cell_type": "code",
      "metadata": {
        "id": "znh3nc6N2K5G",
        "colab_type": "code",
        "colab": {}
      },
      "source": [
        "def breed(selection):\n",
        "  population = numpy.array([the_try for the_try in selection])\n",
        "  i = 0\n",
        "  while len(population) < POPULATION_SIZE:\n",
        "    if i <= len(selection):\n",
        "      parents = population[i:i+2]\n",
        "      numpy.random.shuffle(parents)\n",
        "      slicery = numpy.random.randint(INDIVIDUAL_SIZE) \n",
        "      population = numpy.append(population, numpy.array([numpy.append(parents[0][slicery:], parents[1][:slicery], axis=0)]), axis=0)\n",
        "      i += 1\n",
        "    # Once reached the end, create new random individuals\n",
        "    else:\n",
        "      population = numpy.append(population, [create_individual(RESOURCES, INDIVIDUAL_SIZE)], axis=0)\n",
        "\n",
        "  return population"
      ],
      "execution_count": 0,
      "outputs": []
    },
    {
      "cell_type": "code",
      "metadata": {
        "id": "LZtexcvRtKHg",
        "colab_type": "code",
        "colab": {}
      },
      "source": [
        "def mutate(population):\n",
        "  mutated_population = population.copy()\n",
        "  mutants = int(numpy.ceil(POPULATION_SIZE * MUTATION_RATE))\n",
        "  for i in range(mutants):\n",
        "    index = numpy.random.randint(POPULATION_SIZE * STEADY_POPULATION, POPULATION_SIZE)\n",
        "    # Do NOT mutate accurate individuals\n",
        "    if get_fitness(mutated_population[index]) > 0:\n",
        "      mutant = mutated_population[index]\n",
        "      num_mutations = int(numpy.ceil(INDIVIDUAL_SIZE) * MUTATIONS)\n",
        "      for mutation in range(num_mutations):\n",
        "        mutant[numpy.random.randint(INDIVIDUAL_SIZE)] = numpy.random.randint(1, RESOURCES)\n",
        "      mutated_population[index] = mutant\n",
        "\n",
        "  return mutated_population"
      ],
      "execution_count": 0,
      "outputs": []
    },
    {
      "cell_type": "code",
      "metadata": {
        "id": "NESDhT43cMjh",
        "colab_type": "code",
        "outputId": "a4bc7d04-4782-41ea-de01-fa3c721b34a4",
        "colab": {
          "base_uri": "https://localhost:8080/",
          "height": 1000
        }
      },
      "source": [
        "stats = []\n",
        "for times in range(100):\n",
        "  population = initialize_population(POPULATION_SIZE, INDIVIDUAL_SIZE, RESOURCES)\n",
        "  for i in range(STEPS):\n",
        "    # print(f'Step {i}')\n",
        "    selection = get_selection(population)\n",
        "    # print(selection[0:3])\n",
        "    if all([item[0] == 0 for item in selection[0:3]]):\n",
        "      stats.append(i)\n",
        "      print(times + 1)\n",
        "      break\n",
        "    population = breed(selection[:,1])\n",
        "    population = mutate(population)\n",
        "\n",
        "for i in range(3):\n",
        "  print(numpy.reshape(selection[:,1][i], (5, 5)))\n",
        "  print(get_distribution(selection[:,1][i]))\n",
        "\n",
        "print(stats)\n",
        "print('times', len(stats))\n",
        "print('max', numpy.max(stats))\n",
        "print('min', numpy.min(stats))\n",
        "print('average', numpy.average(stats))\n",
        "print('median', numpy.median(stats))"
      ],
      "execution_count": 0,
      "outputs": [
        {
          "output_type": "stream",
          "text": [
            "1\n",
            "2\n",
            "3\n",
            "4\n",
            "5\n",
            "6\n",
            "7\n",
            "8\n",
            "9\n",
            "10\n",
            "11\n",
            "12\n",
            "13\n",
            "14\n",
            "15\n",
            "16\n",
            "17\n",
            "18\n",
            "19\n",
            "20\n",
            "21\n",
            "22\n",
            "23\n",
            "24\n",
            "25\n",
            "26\n",
            "27\n",
            "28\n",
            "29\n",
            "30\n",
            "31\n",
            "32\n",
            "33\n",
            "34\n",
            "35\n",
            "36\n",
            "37\n",
            "38\n",
            "39\n",
            "40\n",
            "41\n",
            "42\n",
            "43\n",
            "44\n",
            "45\n",
            "46\n",
            "47\n",
            "48\n",
            "49\n",
            "50\n",
            "51\n",
            "52\n",
            "53\n",
            "54\n",
            "55\n",
            "56\n",
            "57\n",
            "58\n",
            "59\n",
            "60\n",
            "61\n",
            "62\n",
            "63\n",
            "64\n",
            "65\n",
            "66\n",
            "67\n",
            "68\n",
            "69\n",
            "70\n",
            "71\n",
            "72\n",
            "73\n",
            "74\n",
            "75\n",
            "76\n",
            "77\n",
            "78\n",
            "79\n",
            "80\n",
            "81\n",
            "82\n",
            "83\n",
            "84\n",
            "85\n",
            "86\n",
            "87\n",
            "88\n",
            "89\n",
            "90\n"
          ],
          "name": "stdout"
        }
      ]
    },
    {
      "cell_type": "markdown",
      "metadata": {
        "id": "rl9MrAquPy5o",
        "colab_type": "text"
      },
      "source": [
        "## Stats stored for comparison"
      ]
    },
    {
      "cell_type": "code",
      "metadata": {
        "id": "pIqPUWFGMfwG",
        "colab_type": "code",
        "colab": {}
      },
      "source": [
        "stats = [33, 86, 233, 41, 65, 64, 155, 74, 118, 101, 115, 109, 71, 85, 70, 64, 184, 75, 232, 53, 82, 26, 238, 125, 76, 67, 83, 15, 222, 78, 211, 236, 187, 124, 106, 84, 199, 64, 110, 180, 26, 114, 90, 239, 69, 217, 49, 143, 164, 94, 135, 37, 152, 134, 123, 57, 55, 125, 25, 182, 176, 144, 56, 135, 96, 76, 31, 9, 163, 46, 24, 268, 175, 43, 125, 56, 95, 49, 128, 93, 205, 216, 73, 240, 178, 142, 127, 122, 342, 88, 109, 71, 150, 162, 86, 70, 94, 119, 266, 55]\n",
        "print('times', len(stats))\n",
        "print('max', numpy.max(stats))\n",
        "print('min', numpy.min(stats))\n",
        "print('average', numpy.average(stats))\n",
        "print('median', numpy.median(stats))"
      ],
      "execution_count": 0,
      "outputs": []
    }
  ]
}