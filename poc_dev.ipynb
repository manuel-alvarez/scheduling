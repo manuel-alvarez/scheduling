{
  "nbformat": 4,
  "nbformat_minor": 0,
  "metadata": {
    "colab": {
      "name": "poc.dev.ipynb",
      "provenance": [],
      "collapsed_sections": [],
      "toc_visible": true,
      "include_colab_link": true
    },
    "kernelspec": {
      "name": "python3",
      "display_name": "Python 3"
    },
    "accelerator": "GPU"
  },
  "cells": [
    {
      "cell_type": "markdown",
      "metadata": {
        "id": "view-in-github",
        "colab_type": "text"
      },
      "source": [
        "<a href=\"https://colab.research.google.com/github/manuel-alvarez/scheduling/blob/master/poc_dev.ipynb\" target=\"_parent\"><img src=\"https://colab.research.google.com/assets/colab-badge.svg\" alt=\"Open In Colab\"/></a>"
      ]
    },
    {
      "cell_type": "markdown",
      "metadata": {
        "id": "prDKMG0OaB2M",
        "colab_type": "text"
      },
      "source": [
        "# Schedule Generator with Genetic Algorithms"
      ]
    },
    {
      "cell_type": "markdown",
      "metadata": {
        "id": "C-hVGNqDzBJa",
        "colab_type": "text"
      },
      "source": [
        "This script is intended to be a schedule generator for schools.\n",
        "\n",
        "There are three type of resources:\n",
        " - Classrooms\n",
        " - Teachers\n",
        " - Subjects\n",
        "\n",
        "For this script we will consider that all students in a class go together and don't move, so they are something like \"attached to the classroom\" and therefore not considered as resources, but they could."
      ]
    },
    {
      "cell_type": "markdown",
      "metadata": {
        "id": "YLX4z1zOaJ3O",
        "colab_type": "text"
      },
      "source": [
        "## Description"
      ]
    },
    {
      "cell_type": "markdown",
      "metadata": {
        "id": "KgPhpY3WznV2",
        "colab_type": "text"
      },
      "source": [
        "In this version, we are going to consider two of the three types of resources as constant, and one of them as variable. For example:\n",
        " - 1 classroom\n",
        " - 1 teacher\n",
        " - Multiple subjects (where number of subjects is greater than segment length)\n",
        "\n",
        "### Distribution\n",
        "\n",
        "In this version, subjects were randomly distributed, but now we want the subjects to be distributed with sense. Some subject must have 5 hours per week, while other just have one. We will use a dictionary with distribution and we will compare this to the unique (with counts) method in get_fitness.\n",
        "\n",
        "We also have distribution for teachers, and we have some teachers that can teach different subjects. Sometimes, a subject can be teached by several teachers.\n",
        "\n",
        "### Constraints\n",
        "\n",
        "In this example, we will use constraints. Sometimes, resources (subjects, teachers, ...) cannot be used in certain hours. This will be configured with an array of zeros and ones. 0 means it can be used, 1 means it cannot."
      ]
    },
    {
      "cell_type": "markdown",
      "metadata": {
        "id": "72qZV_uv-Iux",
        "colab_type": "text"
      },
      "source": [
        "## Requirements"
      ]
    },
    {
      "cell_type": "code",
      "metadata": {
        "id": "DusWKWkraLer",
        "colab_type": "code",
        "colab": {}
      },
      "source": [
        "import numpy"
      ],
      "execution_count": 0,
      "outputs": []
    },
    {
      "cell_type": "markdown",
      "metadata": {
        "id": "U77dW2Wn95o5",
        "colab_type": "text"
      },
      "source": [
        "## Settings"
      ]
    },
    {
      "cell_type": "markdown",
      "metadata": {
        "id": "cpzV0hAx98gS",
        "colab_type": "text"
      },
      "source": [
        "All this settings would be better in a database table, but we will use them as constants in those examples."
      ]
    },
    {
      "cell_type": "code",
      "metadata": {
        "id": "YAv2N345b-ER",
        "colab_type": "code",
        "colab": {}
      },
      "source": [
        "# Population (total size of time slots)\n",
        "POPULATION_SIZE = 100\n",
        "# Each segment represents a day\n",
        "SEGMENT = 5\n",
        "# Five days, since the schedule is weekly based, that are 5 segments\n",
        "INDIVIDUAL_SIZE = 25\n",
        "CELL_SIZE = 25\n",
        "# Resources, currently, of just one type, let's say subjects\n",
        "RESOURCES = 10\n",
        "# Number of individuals that pass to the next generation\n",
        "SURVIVAL_RATE = .3\n",
        "# Rate of elements that are going to mutate\n",
        "MUTATION_RATE = .1\n",
        "# Rate of elements (in first population * rate positions) that are not mutating\n",
        "STEADY_POPULATION = .1\n",
        "# Rate of genes that are going to be mutate\n",
        "MUTATIONS = .2\n",
        "# Number of iterations we do in order to get the best approach\n",
        "STEPS = 500\n",
        "# Positions that must remain empty\n",
        "EMPTY = [0, 0, 0, 0, 0, 0, 0, 0, 0, 0, 0, 0, 0, 0, 0, 0, 0, 0, 0, 0, 0, 0, 0, 1, 1]\n",
        "# Severity\n",
        "SEVERITY = {\n",
        "    'high': 6,\n",
        "    'medium': 3,\n",
        "    'low': 1\n",
        "}\n",
        "# Distribution with examples for a primary school in Spain\n",
        "# Array with two elements. \n",
        "#  1.- Distribution of time slots for each subject\n",
        "#  2.- Distribution of subjects that can be teached by each teacher\n",
        "DISTRIBUTION = [\n",
        "  {\n",
        "      1: 5,  # Spanish\n",
        "      2: 4,  # Math\n",
        "      3: 4,  # English\n",
        "      4: 2,  # Social Science\n",
        "      5: 2,  # Natural Science\n",
        "      6: 2,  # PE\n",
        "      7: 1,  # Religion\n",
        "      8: 1,  # Arts & crafts\n",
        "      9: 1,  # Music\n",
        "      10: 1  # Local culture (Asturian)\n",
        "  },\n",
        "  {\n",
        "      1: [1, 4, 7, 10],  # Alice\n",
        "      2: [2, 5, 7],      # Bob\n",
        "      3: [3, 6, 8],      # Claire\n",
        "      4: [6],            # Dan\n",
        "      5: [9]             # Elisabeth\n",
        "  }\n",
        "]\n",
        "CONSTRAINTS = {\n",
        "    1: [1, 0, 0, 0, 0, 1, 0, 0, 0, 0, 1, 0, 0, 0, 0, 1, 0, 0, 0, 0, 1, 0, 0, 1, 1],\n",
        "    2: [1, 0, 0, 0, 0, 1, 0, 0, 0, 0, 1, 0, 0, 0, 0, 1, 0, 0, 0, 0, 1, 0, 0, 1, 1],\n",
        "    3: None,\n",
        "    4: None,\n",
        "    5: None,\n",
        "    6: None,\n",
        "    7: None,\n",
        "    8: None,\n",
        "    9: None,\n",
        "    10: None\n",
        "}\n",
        "SUBJECT_LABELS = {\n",
        "    0: '',\n",
        "    1: 'Spanish',\n",
        "    2: 'Math',\n",
        "    3: 'English',\n",
        "    4: 'Social Science',\n",
        "    5: 'Natural Science',\n",
        "    6: 'PE',\n",
        "    7: 'Religion',\n",
        "    8: 'Arts & crafts',\n",
        "    9: 'Music',\n",
        "    10: 'Local culture',\n",
        "}\n",
        "TEACHER_LABELS = {\n",
        "    0: '',\n",
        "    1: 'Alice',\n",
        "    2: 'Bob',\n",
        "    3: 'Claire',\n",
        "    4: 'Dan',\n",
        "    5: 'Elisabeth',\n",
        "}"
      ],
      "execution_count": 0,
      "outputs": []
    },
    {
      "cell_type": "markdown",
      "metadata": {
        "id": "lGYlPUb11NbN",
        "colab_type": "text"
      },
      "source": [
        "## Methods"
      ]
    },
    {
      "cell_type": "markdown",
      "metadata": {
        "id": "h1_-tbMJ1S0e",
        "colab_type": "text"
      },
      "source": [
        "### create_individual"
      ]
    },
    {
      "cell_type": "code",
      "metadata": {
        "id": "tibOTFoxKlz9",
        "colab_type": "code",
        "colab": {}
      },
      "source": [
        "def teachers_by_subject():\n",
        "  teachers = {0: [0]}\n",
        "  for teacher in DISTRIBUTION[1].keys():\n",
        "    for key in DISTRIBUTION[1][teacher]:\n",
        "      teachers.setdefault(key, [])\n",
        "      teachers[key].append(teacher)\n",
        "\n",
        "  return teachers"
      ],
      "execution_count": 0,
      "outputs": []
    },
    {
      "cell_type": "code",
      "metadata": {
        "id": "pc4aepv8iz59",
        "colab_type": "code",
        "colab": {}
      },
      "source": [
        "def create_individual(cell_size):\n",
        "  \"\"\"\n",
        "  Individuals are created with some constraints, so it's easier to find a valid\n",
        "  one\n",
        "  First half of each individual y subject oriented (timeslots with subjects), \n",
        "  last half is teacher oriented (timeslots with teachers).\n",
        "  \"\"\"\n",
        "  individual = []\n",
        "  # Fisrt half\n",
        "  for key in DISTRIBUTION[0].keys():\n",
        "    for i in range(DISTRIBUTION[0][key]):\n",
        "      individual.append(key)\n",
        "  numpy.random.shuffle(individual)\n",
        "  for i in range(len(individual), cell_size):\n",
        "    individual.append(0)\n",
        "\n",
        "  # Last half\n",
        "  # Random pick teachers\n",
        "  teachers = teachers_by_subject()\n",
        "  teachers = {subject: numpy.random.choice(teachers[subject]) for subject in teachers}\n",
        "  last_half = []\n",
        "  for i in individual:\n",
        "    last_half.append(teachers[i])\n",
        "  individual += last_half\n",
        "\n",
        "  return individual  "
      ],
      "execution_count": 0,
      "outputs": []
    },
    {
      "cell_type": "code",
      "metadata": {
        "id": "55uHnxh8jG_j",
        "colab_type": "code",
        "colab": {}
      },
      "source": [
        "numpy.reshape(create_individual(INDIVIDUAL_SIZE), (2, 5, 5))\n"
      ],
      "execution_count": 0,
      "outputs": []
    },
    {
      "cell_type": "markdown",
      "metadata": {
        "id": "JEQ_jKyx1YqB",
        "colab_type": "text"
      },
      "source": [
        "### initialize_population"
      ]
    },
    {
      "cell_type": "code",
      "metadata": {
        "id": "iWGBbsvqam6y",
        "colab_type": "code",
        "colab": {}
      },
      "source": [
        "def initialize_population(population_size, cell_size):\n",
        "  population = None\n",
        "  for i in range(population_size):\n",
        "    if population is None:\n",
        "      population = numpy.array([create_individual(cell_size)])\n",
        "    else:\n",
        "      population = numpy.append(population, [create_individual(cell_size)], axis=0)\n",
        "  return population"
      ],
      "execution_count": 0,
      "outputs": []
    },
    {
      "cell_type": "code",
      "metadata": {
        "id": "L2ByPRTfPOvj",
        "colab_type": "code",
        "colab": {}
      },
      "source": [
        "population = initialize_population(POPULATION_SIZE, CELL_SIZE)\n",
        "population.shape"
      ],
      "execution_count": 0,
      "outputs": []
    },
    {
      "cell_type": "markdown",
      "metadata": {
        "id": "F69rH0xA1h-o",
        "colab_type": "text"
      },
      "source": [
        "### get_fitness"
      ]
    },
    {
      "cell_type": "code",
      "metadata": {
        "id": "Ej8vuWuCBQO3",
        "colab_type": "code",
        "colab": {}
      },
      "source": [
        "def get_distribution(individual):\n",
        "  unique, counts = numpy.unique(individual, return_counts=True)\n",
        "  actual_distribution = dict(zip(unique, counts))\n",
        "  return actual_distribution"
      ],
      "execution_count": 0,
      "outputs": []
    },
    {
      "cell_type": "code",
      "metadata": {
        "id": "EWwnres9tI_K",
        "colab_type": "code",
        "colab": {}
      },
      "source": [
        "def get_fitness(the_try):\n",
        "  \"\"\"\n",
        "  Each individual has two halves we will call cells. First half is subject based\n",
        "  and last half is teachers based. We will split each try in those two halves.\n",
        "  \"\"\"\n",
        "  fitness = 0\n",
        "\n",
        "  # Find fitness for first half\n",
        "  first_half = numpy.reshape(the_try, (2, CELL_SIZE))[0]\n",
        "  for i in range(int(numpy.ceil(CELL_SIZE / SEGMENT))):\n",
        "    # print(f'Evaluating', i*SEGMENT, (i+1)*SEGMENT, first_half[i*SEGMENT:(i+1)*SEGMENT], 'from', first_half)\n",
        "    unique, counts = numpy.unique(first_half[i*SEGMENT:(i+1)*SEGMENT], return_counts=True)\n",
        "    # Not repeated resources in same segment\n",
        "    # Except 0\n",
        "    count = dict(zip(unique, counts))\n",
        "    if 0 in count.keys():\n",
        "      count.pop(0)\n",
        "    fitness += sum(SEVERITY['medium'] for item in count.values() if item > 1)\n",
        "\n",
        "  # fitness by distribution\n",
        "  actual_distribution = get_distribution(first_half)\n",
        "  fitness += sum(numpy.abs(actual_distribution.get(key, 0) - DISTRIBUTION[0][key]) for key in DISTRIBUTION[0].keys())\n",
        "  # Some positions must remain empty\n",
        "  fitness += sum(EMPTY[index] * SEVERITY['high'] * item / item for index, item in enumerate(first_half) if item != 0)\n",
        "  # Not empty slots in try unless it's mandatory\n",
        "  fitness += sum(SEVERITY['medium'] for index, item in enumerate(first_half) if item == 0 and EMPTY[index] == 0) \n",
        "\n",
        "  # Fitness by constraints\n",
        "  for resource in CONSTRAINTS:\n",
        "    if CONSTRAINTS[resource] is not None:\n",
        "      items = numpy.array([1 if key == resource else 0 for key in first_half])\n",
        "      constraints = numpy.array(CONSTRAINTS[resource])\n",
        "      fitness += sum(items * constraints) * SEVERITY['medium']\n",
        "\n",
        "  # At this time, the only constraints that has the second half is the \n",
        "  # subject->teacher constraint. As they are set in the creation stage, we don't\n",
        "  # need to check them out already.\n",
        "\n",
        "  return fitness"
      ],
      "execution_count": 0,
      "outputs": []
    },
    {
      "cell_type": "markdown",
      "metadata": {
        "id": "WoQp-Q4E1mK6",
        "colab_type": "text"
      },
      "source": [
        "### get_selection"
      ]
    },
    {
      "cell_type": "code",
      "metadata": {
        "id": "3RyVCqE23kAa",
        "colab_type": "code",
        "colab": {}
      },
      "source": [
        "def get_selection(population):\n",
        "  \"\"\"\n",
        "  First, remove duplicates\n",
        "  Then leave just the SURVIVAL_RATE of the total population\n",
        "  Finally sort them by fitness\n",
        "  \"\"\"\n",
        "  selection = numpy.unique(population, axis=0)\n",
        "  selection = [[get_fitness(the_try), the_try] for the_try in selection]\n",
        "  selection = sorted(selection, key=lambda x:x[0])\n",
        "  selection = selection[:int(numpy.ceil(POPULATION_SIZE * SURVIVAL_RATE))]\n",
        "  selection = numpy.array(selection)\n",
        "  return selection\n"
      ],
      "execution_count": 0,
      "outputs": []
    },
    {
      "cell_type": "markdown",
      "metadata": {
        "id": "z-iMP9j31p_i",
        "colab_type": "text"
      },
      "source": [
        "### breed"
      ]
    },
    {
      "cell_type": "code",
      "metadata": {
        "id": "znh3nc6N2K5G",
        "colab_type": "code",
        "colab": {}
      },
      "source": [
        "def breed(selection):\n",
        "  \"\"\"\n",
        "  Each individual has two halves that are related with each other. As they are\n",
        "  directly related, we will split them in the same point and will mix them in \n",
        "  the same way\n",
        "  \"\"\"\n",
        "  population = numpy.array([the_try for the_try in selection])\n",
        "  i = 0\n",
        "  while len(population) < POPULATION_SIZE:\n",
        "    if i <= len(selection):\n",
        "      parents = population[i:i+2]\n",
        "      numpy.random.shuffle(parents)\n",
        "      slicery = numpy.random.randint(CELL_SIZE)\n",
        "      first_half_0, last_half_0 = numpy.reshape(parents[0], (2, CELL_SIZE))\n",
        "      first_half_1, last_half_1 = numpy.reshape(parents[1], (2, CELL_SIZE))\n",
        "      new_individual = numpy.concatenate((first_half_0[:slicery], first_half_1[slicery:], last_half_0[:slicery], last_half_1[slicery:]), axis=0)\n",
        "      population = numpy.append(population, numpy.array([new_individual]), axis=0)\n",
        "      i += 1\n",
        "    # Once reached the end, create new random individuals\n",
        "    else:\n",
        "      population = numpy.append(population, [create_individual(CELL_SIZE)], axis=0)\n",
        "\n",
        "  return population"
      ],
      "execution_count": 0,
      "outputs": []
    },
    {
      "cell_type": "code",
      "metadata": {
        "id": "IX536HnZToqF",
        "colab_type": "code",
        "colab": {}
      },
      "source": [
        "# POPULATION_SIZE = 5\n",
        "# CELL_SIZE = 25\n",
        "population = initialize_population(3, CELL_SIZE)\n",
        "breed(population)"
      ],
      "execution_count": 0,
      "outputs": []
    },
    {
      "cell_type": "markdown",
      "metadata": {
        "id": "tjTrwVlR1r4B",
        "colab_type": "text"
      },
      "source": [
        "### mutate"
      ]
    },
    {
      "cell_type": "code",
      "metadata": {
        "id": "LZtexcvRtKHg",
        "colab_type": "code",
        "colab": {}
      },
      "source": [
        "def mutate(population):\n",
        "  mutated_population = population.copy()\n",
        "  mutants = int(numpy.ceil(POPULATION_SIZE * MUTATION_RATE))\n",
        "  for i in range(mutants):\n",
        "    index = numpy.random.randint(POPULATION_SIZE * STEADY_POPULATION, POPULATION_SIZE)\n",
        "    # Do NOT mutate accurate individuals\n",
        "    if get_fitness(mutated_population[index]) > 0:\n",
        "      mutant = numpy.reshape(mutated_population[index], (2, CELL_SIZE))\n",
        "      num_mutations = int(numpy.ceil(CELL_SIZE) * MUTATIONS)\n",
        "      for mutation in range(num_mutations):\n",
        "        gene_index_0 = numpy.random.randint(CELL_SIZE)\n",
        "        gene_index_1 = numpy.random.randint(CELL_SIZE)\n",
        "        tmp_f = mutant[0][gene_index_0]\n",
        "        tmp_l = mutant[1][gene_index_0]\n",
        "        mutant[0][gene_index_0] = mutant[0][gene_index_1]\n",
        "        mutant[1][gene_index_0] = mutant[1][gene_index_1]\n",
        "        mutant[0][gene_index_1] = tmp_f\n",
        "        mutant[1][gene_index_1] = tmp_l\n",
        "      mutated_population[index] = mutant.flatten()\n",
        "\n",
        "  return mutated_population"
      ],
      "execution_count": 0,
      "outputs": []
    },
    {
      "cell_type": "markdown",
      "metadata": {
        "id": "jNNaoqmbeT-m",
        "colab_type": "text"
      },
      "source": [
        "### print_calendar"
      ]
    },
    {
      "cell_type": "code",
      "metadata": {
        "id": "x1-EGjTPePqg",
        "colab_type": "code",
        "colab": {}
      },
      "source": [
        "def print_calendar(individual):\n",
        "  subjects, teachers = numpy.reshape(individual, (2, CELL_SIZE))\n",
        "  calendar = ['%8s, %5s' % (SUBJECT_LABELS[int(subjects[int(i)])][:8], TEACHER_LABELS[int(teachers[int(i)])][:5]) for i, subject in enumerate(subjects)]\n",
        "  print(numpy.reshape(calendar, (SEGMENT, SEGMENT)))"
      ],
      "execution_count": 0,
      "outputs": []
    },
    {
      "cell_type": "markdown",
      "metadata": {
        "id": "yHdgB5pK1vvT",
        "colab_type": "text"
      },
      "source": [
        "## Main script"
      ]
    },
    {
      "cell_type": "code",
      "metadata": {
        "id": "NESDhT43cMjh",
        "colab_type": "code",
        "outputId": "e77d96c6-3999-4d5a-ed96-542836240e9e",
        "colab": {
          "base_uri": "https://localhost:8080/",
          "height": 646
        }
      },
      "source": [
        "stats = []\n",
        "for times in range(1):\n",
        "  population = initialize_population(POPULATION_SIZE, CELL_SIZE)\n",
        "  for i in range(STEPS):\n",
        "    # print(f'Step {i}')\n",
        "    selection = get_selection(population)\n",
        "    # print(selection[0:3])\n",
        "    if all([item[0] == 0 for item in selection[0:3]]):\n",
        "      stats.append(i)\n",
        "      print(times + 1)\n",
        "      break\n",
        "    population = breed(selection[:,1])\n",
        "    population = mutate(population)\n",
        "\n",
        "for i in range(3):\n",
        "  print_calendar(selection[:,1][i])\n",
        "  # print(get_distribution(selection[:,1][i]))\n",
        "\n",
        "print(stats)\n",
        "print('times', len(stats))\n",
        "print('max', numpy.max(stats))\n",
        "print('min', numpy.min(stats))\n",
        "print('average', numpy.average(stats))\n",
        "print('median', numpy.median(stats))"
      ],
      "execution_count": 186,
      "outputs": [
        {
          "output_type": "stream",
          "text": [
            "1\n",
            "[[' English, Clair' 'Social S, Alice' ' Spanish, Alice' 'Natural ,   Bob'\n",
            "  '    Math,   Bob']\n",
            " [' English, Clair' 'Arts & c, Clair' ' Spanish, Alice' '   Music, Elisa'\n",
            "  '    Math,   Bob']\n",
            " ['      PE, Clair' ' English, Clair' ' Spanish, Alice' '    Math,   Bob'\n",
            "  'Social S, Alice']\n",
            " ['Religion,   Bob' '    Math,   Bob' ' Spanish, Alice' ' English, Clair'\n",
            "  'Local cu, Alice']\n",
            " ['      PE, Clair' 'Natural ,   Bob' ' Spanish, Alice' '        ,      '\n",
            "  '        ,      ']]\n",
            "[[' English, Clair' 'Social S, Alice' '    Math,   Bob' 'Natural ,   Bob'\n",
            "  ' Spanish, Alice']\n",
            " [' English, Clair' 'Arts & c, Clair' ' Spanish, Alice' '    Math,   Bob'\n",
            "  'Natural ,   Bob']\n",
            " [' English, Clair' '      PE, Clair' ' Spanish, Alice' '    Math,   Bob'\n",
            "  'Social S, Alice']\n",
            " ['Religion,   Bob' '    Math,   Bob' ' Spanish, Alice' '   Music, Elisa'\n",
            "  ' English, Clair']\n",
            " ['      PE, Clair' ' Spanish, Alice' 'Local cu, Alice' '        ,      '\n",
            "  '        ,      ']]\n",
            "[[' English, Clair' 'Social S, Alice' '    Math,   Bob' 'Natural ,   Bob'\n",
            "  ' Spanish, Alice']\n",
            " [' English, Clair' 'Arts & c, Clair' ' Spanish, Alice' 'Local cu, Alice'\n",
            "  '    Math,   Bob']\n",
            " [' English, Clair' '      PE, Clair' ' Spanish, Alice' '    Math,   Bob'\n",
            "  'Social S, Alice']\n",
            " ['Religion,   Bob' '    Math,   Bob' ' Spanish, Alice' '   Music, Elisa'\n",
            "  ' English, Clair']\n",
            " ['      PE, Clair' ' Spanish, Alice' 'Natural ,   Bob' '        ,      '\n",
            "  '        ,      ']]\n",
            "[75]\n",
            "times 1\n",
            "max 75\n",
            "min 75\n",
            "average 75.0\n",
            "median 75.0\n"
          ],
          "name": "stdout"
        }
      ]
    },
    {
      "cell_type": "markdown",
      "metadata": {
        "id": "rl9MrAquPy5o",
        "colab_type": "text"
      },
      "source": [
        "## Stats stored for comparison"
      ]
    },
    {
      "cell_type": "code",
      "metadata": {
        "id": "pIqPUWFGMfwG",
        "colab_type": "code",
        "outputId": "8d3ada30-a54a-44c7-ae44-b1d9c927ace4",
        "colab": {
          "base_uri": "https://localhost:8080/",
          "height": 323
        }
      },
      "source": [
        "all_stats = [\n",
        "  [33, 86, 233, 41, 65, 64, 155, 74, 118, 101, 115, 109, 71, 85, 70, 64, 184, 75, 232, 53, 82, 26, 238, 125, 76, 67, 83, 15, 222, 78, 211, 236, 187, 124, 106, 84, 199, 64, 110, 180, 26, 114, 90, 239, 69, 217, 49, 143, 164, 94, 135, 37, 152, 134, 123, 57, 55, 125, 25, 182, 176, 144, 56, 135, 96, 76, 31, 9, 163, 46, 24, 268, 175, 43, 125, 56, 95, 49, 128, 93, 205, 216, 73, 240, 178, 142, 127, 122, 342, 88, 109, 71, 150, 162, 86, 70, 94, 119, 266, 55],\n",
        "  [56, 47, 89, 62, 67, 102, 77, 137, 54, 61, 199, 53, 80, 30, 36, 175, 44, 42, 45, 26, 91, 99, 54, 99, 49, 103, 188, 10, 216, 147, 265, 201, 180, 90, 114, 264, 166, 88, 142, 96, 168, 49, 276, 114, 177, 280, 54, 134, 127, 207, 94, 107, 180, 90, 171, 186, 145, 77, 106, 212, 87, 102, 96, 67, 91, 118, 24, 12, 52, 120, 41, 113, 122, 161, 102, 43, 91, 73, 59, 110, 54, 93, 178, 132, 140, 141, 135, 131, 103, 84, 118, 160, 404, 304, 97, 175, 78, 127, 58, 55],\n",
        "  [106, 93, 61, 28, 19, 41, 67, 26, 57, 45, 41, 83, 23, 37, 22, 28, 43, 109, 21, 190, 50, 29, 32, 34, 68, 35, 32, 61, 227, 126, 61, 66, 35, 41, 78, 102, 37, 68, 66, 99, 54, 55, 42, 34, 25, 44, 23, 35, 36, 53, 48, 60, 42, 66, 34, 37, 86, 48, 99, 39, 66, 19, 79, 30, 77, 31, 30, 42, 47, 37, 55, 87, 25, 42, 43, 35, 69, 34, 42, 128, 63, 33, 49, 50, 49, 33, 52, 51, 38, 57, 110, 90, 40, 41, 65, 67, 37, 58, 71, 60],\n",
        "]\n",
        "for stats in all_stats:\n",
        "  print('--------------------------')\n",
        "  print('times', len(stats))\n",
        "  print('max', numpy.max(stats))\n",
        "  print('min', numpy.min(stats))\n",
        "  print('average', numpy.average(stats))\n",
        "  print('median', numpy.median(stats))"
      ],
      "execution_count": 112,
      "outputs": [
        {
          "output_type": "stream",
          "text": [
            "--------------------------\n",
            "times 100\n",
            "max 342\n",
            "min 9\n",
            "average 116.74\n",
            "median 103.5\n",
            "--------------------------\n",
            "times 100\n",
            "max 404\n",
            "min 10\n",
            "average 115.49\n",
            "median 102.0\n",
            "--------------------------\n",
            "times 100\n",
            "max 227\n",
            "min 19\n",
            "average 55.79\n",
            "median 47.5\n"
          ],
          "name": "stdout"
        }
      ]
    }
  ]
}